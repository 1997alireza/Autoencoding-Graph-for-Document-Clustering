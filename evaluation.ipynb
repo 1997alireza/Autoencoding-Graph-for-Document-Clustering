{
 "cells": [
  {
   "cell_type": "code",
   "execution_count": 1,
   "metadata": {},
   "outputs": [],
   "source": [
    "import paths\n",
    "from src.main import run\n"
   ]
  },
  {
   "cell_type": "markdown",
   "metadata": {},
   "source": [
    "## Reuters-21578 dataset\n",
    "### Using 50 keywords (Default setup in the paper)\n",
    "When top 50 keywords are used, 43% of documents from this dataset are not assigned to the graph."
   ]
  },
  {
   "cell_type": "code",
   "execution_count": 2,
   "metadata": {},
   "outputs": [
    {
     "name": "stdout",
     "output_type": "stream",
     "text": [
      "ACC=0.35223, AMI=0.12528\n",
      "\n",
      "WHEN WE DO NOT CONSIDER IGNORED DOCUMENTS\n",
      "ACC=0.30091, AMI=0.18111\n"
     ]
    }
   ],
   "source": [
    "run(dataset_path=paths.reuters_dataset, clustering_method='spectral', big_graph=False)"
   ]
  },
  {
   "cell_type": "code",
   "execution_count": 3,
   "metadata": {
    "pycharm": {
     "name": "#%%\n"
    }
   },
   "outputs": [
    {
     "name": "stdout",
     "output_type": "stream",
     "text": [
      "ACC=0.33917, AMI=0.13302\n",
      "\n",
      "WHEN WE DO NOT CONSIDER IGNORED DOCUMENTS\n",
      "ACC=0.25662, AMI=0.18046\n"
     ]
    }
   ],
   "source": [
    "run(dataset_path=paths.reuters_dataset, clustering_method='kmeans', big_graph=False)"
   ]
  },
  {
   "cell_type": "code",
   "execution_count": 4,
   "metadata": {},
   "outputs": [
    {
     "name": "stdout",
     "output_type": "stream",
     "text": [
      "ACC=0.38661, AMI=0.04415\n",
      "\n",
      "WHEN WE DO NOT CONSIDER IGNORED DOCUMENTS\n",
      "ACC=0.34787, AMI=0.10119\n"
     ]
    }
   ],
   "source": [
    "run(dataset_path=paths.reuters_dataset, clustering_method='deep', big_graph=False)"
   ]
  },
  {
   "cell_type": "markdown",
   "metadata": {},
   "source": [
    "### Using 70 keywords\n",
    "When top 70 keywords are used, 22% of documents from this dataset are not assigned to the graph."
   ]
  },
  {
   "cell_type": "code",
   "execution_count": 2,
   "metadata": {},
   "outputs": [
    {
     "name": "stdout",
     "output_type": "stream",
     "text": [
      "ACC=0.31621, AMI=0.13931\n",
      "\n",
      "WHEN WE DO NOT CONSIDER IGNORED DOCUMENTS\n",
      "ACC=0.41126, AMI=0.24615\n"
     ]
    }
   ],
   "source": [
    "run(dataset_path=paths.reuters_dataset, clustering_method='spectral', big_graph=True)"
   ]
  },
  {
   "cell_type": "code",
   "execution_count": 3,
   "metadata": {},
   "outputs": [
    {
     "name": "stdout",
     "output_type": "stream",
     "text": [
      "ACC=0.30226, AMI=0.2006\n",
      "\n",
      "WHEN WE DO NOT CONSIDER IGNORED DOCUMENTS\n",
      "ACC=0.33853, AMI=0.25794\n"
     ]
    }
   ],
   "source": [
    "run(dataset_path=paths.reuters_dataset, clustering_method='kmeans', big_graph=True)"
   ]
  },
  {
   "cell_type": "code",
   "execution_count": 4,
   "metadata": {},
   "outputs": [
    {
     "name": "stdout",
     "output_type": "stream",
     "text": [
      "ACC=0.32661, AMI=0.06644\n",
      "\n",
      "WHEN WE DO NOT CONSIDER IGNORED DOCUMENTS\n",
      "ACC=0.44574, AMI=0.16337\n"
     ]
    }
   ],
   "source": [
    "run(dataset_path=paths.reuters_dataset, clustering_method='deep', big_graph=True)"
   ]
  },
  {
   "cell_type": "markdown",
   "metadata": {},
   "source": [
    "## 20Newsgroups dataset\n",
    "### Using 50 keywords (Default setup in the paper)\n",
    "When top 50 keywords are used, 29% of documents from this dataset are not assigned to the graph."
   ]
  },
  {
   "cell_type": "code",
   "execution_count": 2,
   "metadata": {},
   "outputs": [
    {
     "name": "stdout",
     "output_type": "stream",
     "text": [
      "ACC=0.1085, AMI=0.05515\n",
      "\n",
      "WHEN WE DO NOT CONSIDER IGNORED DOCUMENTS\n",
      "ACC=0.1308, AMI=0.07575\n"
     ]
    }
   ],
   "source": [
    "run(dataset_path=paths.the20news_dataset, clustering_method='spectral', big_graph=False)"
   ]
  },
  {
   "cell_type": "code",
   "execution_count": 3,
   "metadata": {},
   "outputs": [
    {
     "name": "stdout",
     "output_type": "stream",
     "text": [
      "ACC=0.1108, AMI=0.06024\n",
      "\n",
      "WHEN WE DO NOT CONSIDER IGNORED DOCUMENTS\n",
      "ACC=0.12619, AMI=0.07792\n"
     ]
    }
   ],
   "source": [
    "run(dataset_path=paths.the20news_dataset, clustering_method='kmeans', big_graph=False)"
   ]
  },
  {
   "cell_type": "code",
   "execution_count": 4,
   "metadata": {},
   "outputs": [
    {
     "name": "stdout",
     "output_type": "stream",
     "text": [
      "ACC=0.10004, AMI=0.04059\n",
      "\n",
      "WHEN WE DO NOT CONSIDER IGNORED DOCUMENTS\n",
      "ACC=0.08244, AMI=0.04647\n"
     ]
    }
   ],
   "source": [
    "run(dataset_path=paths.the20news_dataset, clustering_method='deep', big_graph=False)"
   ]
  },
  {
   "cell_type": "markdown",
   "metadata": {},
   "source": [
    "### Using 70 keywords\n",
    "When top 70 keywords are used, 19% of documents from this dataset are not assigned to the graph."
   ]
  },
  {
   "cell_type": "code",
   "execution_count": 2,
   "metadata": {},
   "outputs": [
    {
     "name": "stdout",
     "output_type": "stream",
     "text": [
      "ACC=0.11251, AMI=0.07183\n",
      "\n",
      "WHEN WE DO NOT CONSIDER IGNORED DOCUMENTS\n",
      "ACC=0.1244, AMI=0.08739\n"
     ]
    }
   ],
   "source": [
    "run(dataset_path=paths.the20news_dataset, clustering_method='spectral', big_graph=True)"
   ]
  },
  {
   "cell_type": "code",
   "execution_count": 3,
   "metadata": {},
   "outputs": [
    {
     "name": "stdout",
     "output_type": "stream",
     "text": [
      "ACC=0.11994, AMI=0.0754\n",
      "\n",
      "WHEN WE DO NOT CONSIDER IGNORED DOCUMENTS\n",
      "ACC=0.13129, AMI=0.0943\n"
     ]
    }
   ],
   "source": [
    "run(dataset_path=paths.the20news_dataset, clustering_method='kmeans', big_graph=True)"
   ]
  },
  {
   "cell_type": "code",
   "execution_count": 4,
   "metadata": {},
   "outputs": [
    {
     "name": "stdout",
     "output_type": "stream",
     "text": [
      "ACC=0.10689, AMI=0.05637\n",
      "\n",
      "WHEN WE DO NOT CONSIDER IGNORED DOCUMENTS\n",
      "ACC=0.06657, AMI=0.01465\n"
     ]
    }
   ],
   "source": [
    "run(dataset_path=paths.the20news_dataset, clustering_method='deep', big_graph=True)"
   ]
  }
 ],
 "metadata": {
  "kernelspec": {
   "display_name": "Python 3",
   "language": "python",
   "name": "python3"
  },
  "language_info": {
   "codemirror_mode": {
    "name": "ipython",
    "version": 3
   },
   "file_extension": ".py",
   "mimetype": "text/x-python",
   "name": "python",
   "nbconvert_exporter": "python",
   "pygments_lexer": "ipython3",
   "version": "3.7.2"
  }
 },
 "nbformat": 4,
 "nbformat_minor": 1
}
